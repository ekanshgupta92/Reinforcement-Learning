{
 "cells": [
  {
   "cell_type": "code",
   "execution_count": 6,
   "id": "6ed3373b",
   "metadata": {},
   "outputs": [],
   "source": [
    "import gym\n",
    "import numpy as np\n",
    "import math\n",
    "import random"
   ]
  },
  {
   "cell_type": "markdown",
   "id": "db39683a",
   "metadata": {},
   "source": [
    "### Epsilon Greedy Policy"
   ]
  },
  {
   "cell_type": "code",
   "execution_count": 7,
   "id": "630c2dcc",
   "metadata": {},
   "outputs": [],
   "source": [
    "def epsilon_greedy(epsilon):\n",
    "    \n",
    "    rand = np.random.random()  \n",
    "    if rand < epsilon:\n",
    "        action =  env.action_space.sample()\n",
    "    else:\n",
    "        action = np.argmax(Q)\n",
    "    \n",
    "    return action"
   ]
  },
  {
   "cell_type": "markdown",
   "id": "fb7ead78",
   "metadata": {},
   "source": [
    "### Softmax Exploration"
   ]
  },
  {
   "cell_type": "code",
   "execution_count": 8,
   "id": "8ef0bbc9",
   "metadata": {},
   "outputs": [],
   "source": [
    "def softmax(tau):\n",
    "    \n",
    "    total = sum([math.exp(val/tau) for val in Q])    \n",
    "    probs = [math.exp(val/tau)/total for val in Q]\n",
    "    \n",
    "    threshold = random.random()\n",
    "    cumulative_prob = 0.0\n",
    "    for i in range(len(probs)):\n",
    "        cumulative_prob += probs[i]\n",
    "        if (cumulative_prob > threshold):\n",
    "            return i\n",
    "    return np.argmax(probs) "
   ]
  },
  {
   "cell_type": "markdown",
   "id": "cf2bda1b",
   "metadata": {},
   "source": [
    "### Upper Confidence Bound"
   ]
  },
  {
   "cell_type": "code",
   "execution_count": 9,
   "id": "6f763d60",
   "metadata": {},
   "outputs": [],
   "source": [
    "def UCB(iters):\n",
    "    \n",
    "    ucb = np.zeros(10)\n",
    "    \n",
    "    #explore all the arms\n",
    "    if iters < 10:\n",
    "        return i\n",
    "    \n",
    "    else:\n",
    "        for arm in range(10):\n",
    "            \n",
    "            # calculate upper bound\n",
    "            upper_bound = math.sqrt((2*math.log(sum(count))) / count[arm])\n",
    "            \n",
    "            # add upper bound to the Q valyue\n",
    "            ucb[arm] = Q[arm] + upper_bound\n",
    "            \n",
    "        # return the arm which has maximum value\n",
    "        return (np.argmax(ucb))"
   ]
  },
  {
   "cell_type": "markdown",
   "id": "93ffdd51",
   "metadata": {},
   "source": [
    "### Thompson Sampling"
   ]
  },
  {
   "cell_type": "code",
   "execution_count": 10,
   "id": "33c9a9d4",
   "metadata": {},
   "outputs": [],
   "source": [
    "def thompson_sampling(alpha,beta):\n",
    "    \n",
    "    samples = [np.random.beta(alpha[i]+1,beta[i]+1) for i in range(10)]\n",
    "\n",
    "    return np.argmax(samples)"
   ]
  }
 ],
 "metadata": {
  "kernelspec": {
   "display_name": "Python 3 (ipykernel)",
   "language": "python",
   "name": "python3"
  },
  "language_info": {
   "codemirror_mode": {
    "name": "ipython",
    "version": 3
   },
   "file_extension": ".py",
   "mimetype": "text/x-python",
   "name": "python",
   "nbconvert_exporter": "python",
   "pygments_lexer": "ipython3",
   "version": "3.8.12"
  }
 },
 "nbformat": 4,
 "nbformat_minor": 5
}
