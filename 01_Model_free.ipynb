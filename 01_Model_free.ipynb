{
 "cells": [
  {
   "attachments": {},
   "cell_type": "markdown",
   "id": "55b1caf3",
   "metadata": {},
   "source": [
    "### Basics of RL"
   ]
  },
  {
   "attachments": {},
   "cell_type": "markdown",
   "id": "70ae5d8a",
   "metadata": {},
   "source": [
    "<font color='#ed005a'>Value Iteraion </font>: Train a value function to learn which state is more valuable and use this value function to take the action that leads to it. We compute the state value[V(s)] or the Action value function [Q(a,s) / A(a,s)] for this purpose\n",
    "\n",
    "<font color='#ed005a'>Policy Iteraion </font>: Train the policy directly to learn which action to take given a state. Mostly used in Deep reinforcement learning\n",
    "\n",
    "<img src='Image/RL_Basics.png' width=\"700\">"
   ]
  },
  {
   "attachments": {},
   "cell_type": "markdown",
   "id": "5485afa3",
   "metadata": {},
   "source": [
    "Different ways of solving deterministic and finite environments\n",
    "\n",
    "<img src='Image/RL_algorithms.png' width=\"700\">\n",
    "\n",
    "<img src=https://huggingface.co/datasets/huggingface-deep-rl-course/course-images/resolve/main/en/unit3/two-types.jpg width=\"700\">"
   ]
  },
  {
   "attachments": {},
   "cell_type": "markdown",
   "id": "feba6761",
   "metadata": {},
   "source": [
    "### Model free RL\n",
    "\n",
    "Since we do not know about the environment dynamics, we try to estimate the Q and V values of different states by trial and errors."
   ]
  },
  {
   "attachments": {},
   "cell_type": "markdown",
   "id": "f77a157f",
   "metadata": {},
   "source": [
    "#### <font color='#0175c2'>Monte Carlo Learning</font>\n",
    "\n",
    "This method of updating value function computes an <font color='#00ba47'>entire episode</font> to get a trajectory using the old policy and then updates using the total return $G_{t}$\n",
    "\n",
    "$$V(s_k) = E(r_k + \\gamma V(s_{k+1})) $$\n",
    "\n",
    "We estimate the V value by simple update term as follows:\n",
    "\n",
    "$$G_{t} = \\sum_{k=1}^{n}\\gamma^{k}r_k$$\n",
    "$$V^{new}(s_k) = V^{old}(s_k) + \\frac{1}{n} (G_{t} - V^{old}(s_k))$$\n",
    "$$Q^{new}(s_k,a_k) = Q^{old}(s_k,a_k) + \\frac{1}{n} (G_{t} - Q^{old}(s_k,a_k))$$\n",
    "\n",
    "If we reach the optimal value of $V(s_k)$, the difference term $(R_{\\sum} - V^{old}(s_k)$ becomes 0 and $V(s_k)$ stops updating. But this gives equal weightage to all the steps hence, this is actually slow and we use _Temporal Difference_ which gives weightage to results nearer to the rewards. \n",
    "\n"
   ]
  },
  {
   "cell_type": "code",
   "execution_count": 1,
   "id": "802e0aa0",
   "metadata": {},
   "outputs": [],
   "source": [
    "import numpy as np\n",
    "import sys\n",
    "import gym\n",
    "import random\n",
    "from collections import defaultdict, deque\n",
    "import matplotlib.pyplot as plt\n",
    "%matplotlib inline"
   ]
  },
  {
   "cell_type": "code",
   "execution_count": 2,
   "id": "8a6bc355",
   "metadata": {},
   "outputs": [],
   "source": [
    "env = gym.make('Blackjack-v1')\n",
    "\n",
    "def generate_episode_from_limit_stochastic(bj_env):\n",
    "    episode = []\n",
    "    state = bj_env.reset()\n",
    "    while True:\n",
    "        probs = [0.8, 0.2] if state[0] > 18 else [0.2, 0.8]\n",
    "        action = np.random.choice(np.arange(2), p=probs)\n",
    "        next_state, reward, done, info = bj_env.step(action)\n",
    "        episode.append((state, action, reward))\n",
    "        state = next_state\n",
    "        if done:\n",
    "            break\n",
    "    return episode\n",
    "\n",
    "def mc_prediction_q(env, num_episodes, generate_episode, gamma=1.0):\n",
    "    # initialize empty dictionaries of arrays\n",
    "    returns_sum = defaultdict(lambda: np.zeros(env.action_space.n))\n",
    "    N = defaultdict(lambda: np.zeros(env.action_space.n))\n",
    "    Q = defaultdict(lambda: np.zeros(env.action_space.n))\n",
    "    # loop over episodes\n",
    "    for i_episode in range(1, num_episodes+1):\n",
    "        # monitor progress\n",
    "        if i_episode % 1000 == 0:\n",
    "            print(\"\\rEpisode {}/{}.\".format(i_episode, num_episodes), end=\"\")\n",
    "            sys.stdout.flush()\n",
    "        # generate an episode\n",
    "        episode = generate_episode(env)\n",
    "        # obtain the states, actions, and rewards\n",
    "        states, actions, rewards = zip(*episode)\n",
    "        # prepare for discounting\n",
    "        discounts = np.array([gamma**i for i in range(len(rewards)+1)])\n",
    "        # update the sum of the returns, number of visits, and action-value \n",
    "        # function estimates for each state-action pair in the episode\n",
    "        for i, state in enumerate(states):\n",
    "            returns_sum[state][actions[i]] += sum(rewards[i:]*discounts[:-(1+i)])\n",
    "            N[state][actions[i]] += 1.0\n",
    "            Q[state][actions[i]] = returns_sum[state][actions[i]] / N[state][actions[i]]\n",
    "    return Q"
   ]
  },
  {
   "attachments": {},
   "cell_type": "markdown",
   "id": "464b29d6",
   "metadata": {},
   "source": [
    "#### <font color='#0175c2'>Temporal Difference</font>\n",
    "\n",
    "This method estimates the value function at <font color='#00ba47'>each step in an episode</font> by using the value function of the next state.\n",
    "\n",
    "$$V^{new}(s_k) = V^{old}(s_k) + \\alpha (\\underbrace{\\color{#ed005a}{r_k + \\gamma V^{old}(s_{k+1})}}_{\\color{#0175c2}{G_t}} - V^{old}(s_k))$$\n",
    "\n",
    "$G_{t}$ : TD Target Estimate\n",
    "\n",
    "This is kind of 1 $\\Delta t$ delay between an action and reward and things correlated with 1 $\\Delta t$ will get strengthened in this TD(0) framework. \n",
    "\n",
    "$$V(s_k) = E(r_k + \\gamma r_{k+1} + \\gamma^2 V(s_{k+1})) $$\n",
    "Therefore TD(1),\n",
    "$$V^{new}(s_k) = V^{old}(s_k) + \\alpha (r_k + \\gamma r_{k+1} + \\gamma^2 V^{old}(s_{k+1}) - V^{old}(s_k))$$\n",
    "Here we are considering 2 steps into the future. This is called <font color='#0175c2'> n step Bootstrapping</font>. This way we can go on to generate TD(N) famework. If n $\\to$ $\\infty$, this will converge to Monte Carlo Learning."
   ]
  },
  {
   "attachments": {},
   "cell_type": "markdown",
   "id": "fc1831ef",
   "metadata": {},
   "source": [
    "##### <font color='#00ba47'>SARSA: _on-policy TD control method_ </font>\n",
    "\n",
    "State-Action-Reward-State-Action\n",
    "$$Q^{new}(s_k,a_k) = Q^{old}(s_k,a_k) + \\alpha (r_k + \\gamma Q^{old}(s_{k+1},a_{k+1}) - Q^{old}(s_k,a_k))$$\n",
    "\n",
    "Sarsa is generally safer as it always follows what it thinks is best. Eg teaching a teenager to drive, here random actions can lead to accidents and hence Sarsa is preferred."
   ]
  },
  {
   "cell_type": "code",
   "execution_count": 3,
   "id": "b11c3fda",
   "metadata": {},
   "outputs": [],
   "source": [
    "env = gym.make('CliffWalking-v0')\n",
    "def update_Q_sarsa(alpha, gamma, Q, state, action, reward, next_state=None, next_action=None):\n",
    "    \"\"\"Returns updated Q-value for the most recent experience.\"\"\"\n",
    "    current = Q[state][action]  # estimate in Q-table (for current state, action pair)\n",
    "    # get value of state, action pair at next time step\n",
    "    Qsa_next = Q[next_state][next_action] if next_state is not None else 0    \n",
    "    target = reward + (gamma * Qsa_next)               # construct TD target\n",
    "    new_value = current + (alpha * (target - current)) # get updated value\n",
    "    return new_value\n",
    "\n",
    "def epsilon_greedy(Q, state, nA, eps):\n",
    "    if random.random() > eps: # select greedy action with probability epsilon\n",
    "        return np.argmax(Q[state])\n",
    "    else:                     # otherwise, select an action randomly\n",
    "        return random.choice(np.arange(nA))"
   ]
  },
  {
   "cell_type": "code",
   "execution_count": 4,
   "id": "02fbf87c",
   "metadata": {},
   "outputs": [],
   "source": [
    "def sarsa(env, num_episodes, alpha, gamma=1.0, plot_every=100):\n",
    "    nA = env.action_space.n                # number of actions\n",
    "    Q = defaultdict(lambda: np.zeros(nA))  # initialize empty dictionary of arrays\n",
    "    \n",
    "    # monitor performance\n",
    "    tmp_scores = deque(maxlen=plot_every)     # deque for keeping track of scores\n",
    "    avg_scores = deque(maxlen=num_episodes)   # average scores over every plot_every episodes\n",
    "    \n",
    "    for i_episode in range(1, num_episodes+1):\n",
    "        # monitor progress\n",
    "        if i_episode % 100 == 0:\n",
    "            print(\"\\rEpisode {}/{}\".format(i_episode, num_episodes), end=\"\")\n",
    "            sys.stdout.flush()   \n",
    "        score = 0                                             # initialize score\n",
    "        state = env.reset()                                   # start episode\n",
    "        \n",
    "        eps = 1.0 / i_episode                                 # set value of epsilon\n",
    "        action = epsilon_greedy(Q, state, nA, eps)            # epsilon-greedy action selection\n",
    "        \n",
    "        while True:\n",
    "            next_state, reward, done, info = env.step(action) # take action A, observe R, S'\n",
    "            score += reward                                   # add reward to agent's score\n",
    "            if not done:\n",
    "                next_action = epsilon_greedy(Q, next_state, nA, eps) # epsilon-greedy action\n",
    "                Q[state][action] = update_Q_sarsa(alpha, gamma, Q, \\\n",
    "                                                  state, action, reward, next_state, next_action)\n",
    "                \n",
    "                state = next_state     # S <- S'\n",
    "                action = next_action   # A <- A'\n",
    "            if done:\n",
    "                Q[state][action] = update_Q_sarsa(alpha, gamma, Q, \\\n",
    "                                                  state, action, reward)\n",
    "                tmp_scores.append(score)    # append score\n",
    "                break\n",
    "        if (i_episode % plot_every == 0):\n",
    "            avg_scores.append(np.mean(tmp_scores))\n",
    "    # plot performance\n",
    "    plt.plot(np.linspace(0,num_episodes,len(avg_scores),endpoint=False), np.asarray(avg_scores))\n",
    "    plt.xlabel('Episode Number')\n",
    "    plt.ylabel('Average Reward (Over Next %d Episodes)' % plot_every)\n",
    "    plt.show()\n",
    "    # print best 100-episode performance\n",
    "    print(('Best Average Reward over %d Episodes: ' % plot_every), np.max(avg_scores))    \n",
    "    return Q"
   ]
  },
  {
   "attachments": {},
   "cell_type": "markdown",
   "id": "144c6a89",
   "metadata": {},
   "source": [
    "##### <font color='#00ba47'> Sarsamax/Q learning: _off-policy TD control method_ </font>\n",
    "\n",
    "Q learning is just Temporal Difference Learning but on Q Function\n",
    "\n",
    "$$Q^{new}(s_k,a_k) = Q^{old}(s_k,a_k) + \\alpha (r_{k+1} + \\gamma {\\color{#ed005a}{\\mathop{max}_{\\textbf{a} \\in A} Q^{old}(s_{k+1},a)}} - Q^{old}(s_k,a_k))$$\n",
    "\n",
    "We can compute any random action to get $r_{k=1}$ but while computing $Q^{new}(s_k,a_k)$, we maximize over *a*. Here is the updated line in the above code.\n",
    "\n",
    "`a_ = np.argmax([Q[(s_, a)] for a in range(env.action_space.n)])`\n",
    "\n",
    "Q Learning is faster and can learn from imitation and experience replay. \\\n",
    "Different strategies exist for introducing this randomness : epsilon greedy, softmax exploration, upper confidence bound, thompson sampling etc"
   ]
  },
  {
   "cell_type": "code",
   "execution_count": 5,
   "id": "369d0a20",
   "metadata": {},
   "outputs": [],
   "source": [
    "def update_Q_sarsamax(alpha, gamma, Q, state, action, reward, next_state=None):\n",
    "    \"\"\"Returns updated Q-value for the most recent experience.\"\"\"\n",
    "    current = Q[state][action]  # estimate in Q-table (for current state, action pair)\n",
    "    Qsa_next = np.max(Q[next_state]) if next_state is not None else 0  # value of next state \n",
    "    target = reward + (gamma * Qsa_next)               # construct TD target\n",
    "    new_value = current + (alpha * (target - current)) # get updated value \n",
    "    return new_value\n",
    "\n",
    "## rest function ie sarsa remains same just change update_Q_sarsa --> update_Q_sarsamax"
   ]
  },
  {
   "attachments": {},
   "cell_type": "markdown",
   "id": "3fa31fd2",
   "metadata": {},
   "source": [
    "##### <font color='#00ba47'> Expected Sarsa: _on-policy TD control method_ </font>\n",
    "\n",
    "$$Q^{new}(s_k,a_k) = Q^{old}(s_k,a_k) + \\alpha (r_{k+1} + \\gamma {\\color{#ed005a}{\\sum_{\\textbf{a}} \\pi (a|s_{t+1}) Q^{old}(s_{k+1},a)}} - Q^{old}(s_k,a_k))$$"
   ]
  },
  {
   "cell_type": "code",
   "execution_count": 6,
   "id": "c68cbbae",
   "metadata": {},
   "outputs": [],
   "source": [
    "def update_Q_expsarsa(alpha, gamma, nA, eps, Q, state, action, reward, next_state=None):\n",
    "    \"\"\"Returns updated Q-value for the most recent experience.\"\"\"\n",
    "    current = Q[state][action]         # estimate in Q-table (for current state, action pair)\n",
    "    policy_s = np.ones(nA) * eps / nA  # current policy (for next state S')\n",
    "    policy_s[np.argmax(Q[next_state])] = 1 - eps + (eps / nA) # greedy action\n",
    "    Qsa_next = np.dot(Q[next_state], policy_s)         # get value of state at next time step\n",
    "    target = reward + (gamma * Qsa_next)               # construct target\n",
    "    new_value = current + (alpha * (target - current)) # get updated value \n",
    "    return new_value"
   ]
  }
 ],
 "metadata": {
  "kernelspec": {
   "display_name": "Python 3 (ipykernel)",
   "language": "python",
   "name": "python3"
  },
  "language_info": {
   "codemirror_mode": {
    "name": "ipython",
    "version": 3
   },
   "file_extension": ".py",
   "mimetype": "text/x-python",
   "name": "python",
   "nbconvert_exporter": "python",
   "pygments_lexer": "ipython3",
   "version": "3.9.16"
  }
 },
 "nbformat": 4,
 "nbformat_minor": 5
}
